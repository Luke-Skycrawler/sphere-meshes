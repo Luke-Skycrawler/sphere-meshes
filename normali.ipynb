{
 "cells": [
  {
   "cell_type": "code",
   "execution_count": 10,
   "metadata": {},
   "outputs": [],
   "source": [
    "import numpy as np\n",
    "tol = 1e-10\n",
    "def normalize(x):\n",
    "    return x / np.sqrt(np.dot(x, x))\n",
    "\n",
    "def compute_normal(v0, v1, v2, r0, r1, r2, n0):\n",
    "    r01 = v1 - v0\n",
    "    r12 = v2 - v1\n",
    "    A = np.zeros((3, 3))\n",
    "    A[0] = r01\n",
    "    A[1] = r12\n",
    "    b = np.array([r0 - r1, r1 - r2, 1.0])\n",
    "    def residue(n):\n",
    "        A[2] = n\n",
    "        return A @ n - b \n",
    "    \n",
    "\n",
    "    n = n0\n",
    "    res = residue(n)\n",
    "    iter = 0\n",
    "    while np.dot(res, res) > tol:\n",
    "        print(f\"iter {iter} res = {np.dot(res, res)}\")\n",
    "        iter += 1\n",
    "        A[2] = 2 * n\n",
    "        dn = np.linalg.solve(A, res)\n",
    "        n -= dn\n",
    "        res = residue(n)\n",
    "    return normalize(n)"
   ]
  },
  {
   "cell_type": "code",
   "execution_count": 11,
   "metadata": {},
   "outputs": [
    {
     "name": "stdout",
     "output_type": "stream",
     "text": [
      "[-0.          0.         -0.04073114]\n",
      "iter 0 res = 0.0013026316024178516\n",
      "iter 1 res = 2.470739387854634e-05\n",
      "[0. 0. 1.] [ 2.29486151e-06 -1.92155581e-06 -1.00000000e+00]\n"
     ]
    }
   ],
   "source": [
    "vt0 = np.random.rand(3)\n",
    "vt1 = np.random.rand(3)\n",
    "vt2 = np.random.rand(3)\n",
    "\n",
    "vt0[2] = 0\n",
    "vt1[2] = 0\n",
    "vt2[2] = 0\n",
    "n0 = np.random.rand(3) * 0.5\n",
    "n0[2] = -1.0\n",
    "n0 = normalize(n0)\n",
    "r01 = vt1 - vt0\n",
    "r12 = vt2 - vt1\n",
    "n1 = np.cross(r01, r12)\n",
    "print(n1)\n",
    "\n",
    "n = np.array([0.0, 0.0, 1.0])\n",
    "r = np.random.rand(3) * 0.1\n",
    "vt0 += n * r[0]\n",
    "vt1 += n * r[1]\n",
    "vt2 += n * r[2]\n",
    "n1 = compute_normal(vt0, vt1, vt2, r[0], r[1], r[2], n0)\n",
    "print(n, n1)\n"
   ]
  }
 ],
 "metadata": {
  "kernelspec": {
   "display_name": "taichi_old",
   "language": "python",
   "name": "python3"
  },
  "language_info": {
   "codemirror_mode": {
    "name": "ipython",
    "version": 3
   },
   "file_extension": ".py",
   "mimetype": "text/x-python",
   "name": "python",
   "nbconvert_exporter": "python",
   "pygments_lexer": "ipython3",
   "version": "3.10.14"
  }
 },
 "nbformat": 4,
 "nbformat_minor": 2
}
