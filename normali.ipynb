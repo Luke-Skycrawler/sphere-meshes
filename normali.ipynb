{
 "cells": [
  {
   "cell_type": "code",
   "execution_count": 14,
   "metadata": {},
   "outputs": [],
   "source": [
    "import numpy as np\n",
    "tol = 1e-6\n",
    "def normalize(x):\n",
    "    return x / np.sqrt(np.dot(x, x))\n",
    "\n",
    "def compute_normal(v0, v1, v2, r0, r1, r2, n0):\n",
    "    r01 = v1 - v0\n",
    "    r12 = v2 - v1\n",
    "    A = np.zeros((3, 3))\n",
    "    A[0] = r01\n",
    "    A[1] = r12\n",
    "    b = np.array([r0 - r1, r1 - r2, 1.0])\n",
    "    def residue(n):\n",
    "        A[2] = n\n",
    "        return A @ n - b \n",
    "    \n",
    "\n",
    "    n = n0\n",
    "    res = residue(n)\n",
    "    iter = 0\n",
    "    while np.dot(res, res) > tol:\n",
    "        print(f\"iter {iter} res = {np.dot(res, res)}\")\n",
    "        iter += 1\n",
    "        A[2] = 2 * n\n",
    "        dn = np.linalg.solve(A, res)\n",
    "        n -= dn\n",
    "        res = residue(n)\n",
    "    return normalize(n)"
   ]
  },
  {
   "cell_type": "code",
   "execution_count": 16,
   "metadata": {},
   "outputs": [
    {
     "name": "stdout",
     "output_type": "stream",
     "text": [
      "iter 0 res = 0.015208481393200378\n",
      "iter 1 res = 0.0046356573882004115\n",
      "iter 2 res = 1.2187753500676646e-06\n",
      "[0.3902256  0.12138991 0.91268202] [ 0.21255144 -0.14403693  0.96647568]\n"
     ]
    }
   ],
   "source": [
    "vt0 = np.random.rand(3)\n",
    "vt1 = np.random.rand(3)\n",
    "vt2 = np.random.rand(3)\n",
    "\n",
    "vt0[2] = 0\n",
    "vt1[2] = 0\n",
    "vt2[2] = 0\n",
    "n = np.random.rand(3) * 0.5\n",
    "n[2] = 1.0\n",
    "n = normalize(n)\n",
    "r = np.random.rand(3) * 0.1\n",
    "vt0 += n * r[0]\n",
    "vt1 += n * r[1]\n",
    "vt2 += n * r[2]\n",
    "n1 = compute_normal(vt0, vt1, vt2, r[0], r[1], r[2], np.array([0, 0, 1.0]))\n",
    "print(n, n1)\n"
   ]
  }
 ],
 "metadata": {
  "kernelspec": {
   "display_name": "taichi_old",
   "language": "python",
   "name": "python3"
  },
  "language_info": {
   "codemirror_mode": {
    "name": "ipython",
    "version": 3
   },
   "file_extension": ".py",
   "mimetype": "text/x-python",
   "name": "python",
   "nbconvert_exporter": "python",
   "pygments_lexer": "ipython3",
   "version": "3.8.3"
  }
 },
 "nbformat": 4,
 "nbformat_minor": 2
}
